{
 "cells": [
  {
   "cell_type": "code",
   "execution_count": 2,
   "metadata": {},
   "outputs": [
    {
     "name": "stdout",
     "output_type": "stream",
     "text": [
      "accuracy for  1 -nearest neighbours is:  1.0\n",
      "accuracy for  2 -nearest neighbours is:  1.0\n",
      "accuracy for  3 -nearest neighbours is:  1.0\n",
      "accuracy for  4 -nearest neighbours is:  1.0\n",
      "accuracy for  5 -nearest neighbours is:  1.0\n",
      "accuracy for  6 -nearest neighbours is:  1.0\n"
     ]
    }
   ],
   "source": [
    "\n",
    "import random\n",
    "from math import sqrt \n",
    "from collections import Counter\n",
    "#retrieve the file and put in a list\n",
    "irisPath=(\"G:/Iris.csv\")\n",
    "irisFile = open(irisPath,\"r\")\n",
    "iris = []\n",
    "for r in irisFile:\n",
    "    r = r.split(',')\n",
    "    iris.append(r)\n",
    "#remove the first row which is the title\n",
    "del iris[0]    \n",
    "\n",
    "#splitting it into training and testing data using the ratio of 4:1\n",
    "irisShuffle = iris\n",
    "random.shuffle(irisShuffle)\n",
    "\n",
    "for s in range (0,len (irisShuffle)):\n",
    "    irisShuffle[s][0]=int(irisShuffle[s][0])\n",
    "    irisShuffle[s][1]=float(irisShuffle[s][1])\n",
    "    irisShuffle[s][2]=float(irisShuffle[s][2])\n",
    "    irisShuffle[s][3]=float(irisShuffle[s][3])\n",
    "    irisShuffle[s][4]=float(irisShuffle[s][4])\n",
    "        \n",
    "train = []\n",
    "test = []\n",
    "for i in range(0,len (irisShuffle)):\n",
    "    if i <= ((len (irisShuffle))//5)*4:\n",
    "        train.append(irisShuffle[i])\n",
    "    else:\n",
    "        test.append(irisShuffle[i])\n",
    "    \n",
    "#get neighbours\n",
    "def getNeighbours (testinstance,train,k):\n",
    "    def foreachinstance(traininstance):\n",
    "            return sqrt(sum((a-b)**2 for a,b in zip(traininstance[1:5],testinstance[1:5])))\n",
    "    return sorted(train,key = foreachinstance)[:k]\n",
    " \n",
    "#vote on neighbours\n",
    "def predict(neighbours_species):\n",
    "    countNeighbours = Counter(neighbours_species)\n",
    "    return max(countNeighbours, key = countNeighbours.get) \n",
    "    #incase of a tie max returns the first one\n",
    "    \n",
    "#let's start our classifier\n",
    "for k in range (1,7):   \n",
    "    correct_predictions = 0\n",
    "    for testinstance in test:\n",
    "        #first get the neighbours\n",
    "        _,_,_,_,_,neighbours_species = zip(*(getNeighbours(testinstance,train,k)))\n",
    "        #predict the neighbours\n",
    "        prediction = predict(neighbours_species)\n",
    "        if (prediction == testinstance[5]):\n",
    "            correct_predictions += 1\n",
    "        \n",
    "    print(\"accuracy for \",k,\"-nearest neighbours is: \",(correct_predictions/len(test)))"
   ]
  },
  {
   "cell_type": "code",
   "execution_count": null,
   "metadata": {},
   "outputs": [],
   "source": []
  }
 ],
 "metadata": {
  "kernelspec": {
   "display_name": "Python 3",
   "language": "python",
   "name": "python3"
  },
  "language_info": {
   "codemirror_mode": {
    "name": "ipython",
    "version": 3
   },
   "file_extension": ".py",
   "mimetype": "text/x-python",
   "name": "python",
   "nbconvert_exporter": "python",
   "pygments_lexer": "ipython3",
   "version": "3.6.5"
  }
 },
 "nbformat": 4,
 "nbformat_minor": 2
}
