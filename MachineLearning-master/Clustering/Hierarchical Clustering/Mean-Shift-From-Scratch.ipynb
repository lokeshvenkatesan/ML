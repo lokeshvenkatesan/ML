{
 "cells": [
  {
   "cell_type": "markdown",
   "metadata": {},
   "source": [
    "# Mean Shift from Scratch"
   ]
  },
  {
   "cell_type": "code",
   "execution_count": 1,
   "metadata": {
    "collapsed": true
   },
   "outputs": [],
   "source": [
    "import matplotlib.pyplot as plt\n",
    "import numpy as np\n",
    "from matplotlib import style\n",
    "from sklearn.datasets.samples_generator import make_blobs\n",
    "  \n",
    "style.use(\"ggplot\")"
   ]
  },
  {
   "cell_type": "code",
   "execution_count": 2,
   "metadata": {},
   "outputs": [
    {
     "data": {
      "image/png": "[encoded data removed]",
      "text/plain": [
       "<matplotlib.figure.Figure at 0x14f08d28978>"
      ]
     },
     "metadata": {},
     "output_type": "display_data"
    }
   ],
   "source": [
    "X, y = make_blobs(n_samples=40, centers=3, n_features=2)\n",
    "plt.scatter(X[:,0], X[:,1], s = 150)\n",
    "plt.show()\n",
    "colors = 10 * [\"g\", \"r\", \"b\", \"y\", \"c\", \"k\"]"
   ]
  },
  {
   "cell_type": "code",
   "execution_count": 3,
   "metadata": {
    "collapsed": true
   },
   "outputs": [],
   "source": [
    "class MeanShift:\n",
    "    def __init__(self, radius=None, radius_norm_step=100):\n",
    "        self.radius = radius\n",
    "        self.radius_norm_step = radius_norm_step\n",
    "    \n",
    "    def fit(self, data):\n",
    "        if self.radius == None:\n",
    "            all_data_centroid = np.average(data, axis=0)  # Centroid of the whole data\n",
    "            all_data_norm = np.linalg.norm(all_data_centroid)  # Magnitude from the origin\n",
    "            self.radius = all_data_norm / self.radius_norm_step  # New radius\n",
    "            \n",
    "        centroids = {}\n",
    "        \n",
    "        for i in range(len(data)):\n",
    "            centroids[i] = data[i]\n",
    "        \n",
    "        weights = [i for i in range(self.radius_norm_step)][::-1]\n",
    "        \n",
    "        while True:\n",
    "            new_centroids = []\n",
    "            for i in centroids:\n",
    "                in_bandwidth = []  # All centroids in the radius\n",
    "                centroid = centroids[i]\n",
    "                    \n",
    "                for featureset in data:\n",
    "                    distance = np.linalg.norm(featureset - centroid)\n",
    "                    if distance == 0:\n",
    "                        distance = 0.000001\n",
    "                    weight_index = int(distance / self.radius)  # Radius steps took\n",
    "                    if weight_index > self.radius_norm_step - 1:\n",
    "                        # If the distances greater than the max distance (more than 100 steps away), then the weight_index is the max element\n",
    "                        weight_index = self.radius_norm_step - 1\n",
    "                    to_add = (weights[weight_index] ** 2) * [featureset]  # This is not efficient!\n",
    "                    in_bandwidth += to_add                    \n",
    "                        \n",
    "                new_centroid = np.average(in_bandwidth, axis=0)  # Mean vector      \n",
    "                new_centroids.append(tuple(new_centroid))\n",
    "                \n",
    "            # In the process, some of the centroids will be an identical copies of other centroids.\n",
    "            # Next lines fix that problem.\n",
    "            uniques = sorted(list(set(new_centroids)))  # Unique elements from the new centroids list\n",
    "            \n",
    "            to_pop = []\n",
    "            for i in uniques:\n",
    "                for j in uniques:\n",
    "                    if i == j:\n",
    "                        pass  # Itself\n",
    "                    elif np.linalg.norm(np.array(i) - np.array(j)) <= self.radius:\n",
    "                        to_pop.append(j)\n",
    "                        break\n",
    "            for i in to_pop:\n",
    "                try:\n",
    "                    uniques.remove(i)\n",
    "                except:\n",
    "                    pass\n",
    "            \n",
    "            prev_centroids = dict(centroids)\n",
    "            centroids = {}\n",
    "            for i in range(len(uniques)):\n",
    "                centroids[i] = np.array(uniques[i])\n",
    "                \n",
    "            optimized = True\n",
    "            # Check for movement\n",
    "            for i in centroids:\n",
    "                if not np.array_equal(centroids[i], prev_centroids[i]):\n",
    "                    optimized = False\n",
    "                if not optimized:\n",
    "                    break\n",
    "            if optimized:\n",
    "                break\n",
    "                \n",
    "        self.centroids = centroids\n",
    "        self.classifications = {}\n",
    "        \n",
    "        for i in range(len(self.centroids)):\n",
    "            self.classifications[i] = []\n",
    "            \n",
    "        for featureset in data:\n",
    "            distances = [np.linalg.norm(featureset - self.centroids[centroid]) for centroid in self.centroids]\n",
    "            classification = distances.index(min(distances))\n",
    "            self.classifications[classification].append(featureset)\n",
    "        \n",
    "    def predict(self, data):\n",
    "        distances = [np.linalg.norm(featureset - self.centroids[centroid]) for centroid in self.centroids]\n",
    "        classification = distances.index(min(distances))\n",
    "        return classification"
   ]
  },
  {
   "cell_type": "code",
   "execution_count": 4,
   "metadata": {},
   "outputs": [
    {
     "data": {
      "image/png": "[encoded data removed]",
      "text/plain": [
       "<matplotlib.figure.Figure at 0x14f091a5d30>"
      ]
     },
     "metadata": {},
     "output_type": "display_data"
    }
   ],
   "source": [
    "clf = MeanShift()\n",
    "clf.fit(X)\n",
    "centroids = clf.centroids\n",
    "\n",
    "for classification in clf.classifications:\n",
    "    color = colors[classification]\n",
    "    for featureset in clf.classifications[classification]:\n",
    "        plt.scatter(featureset[0], featureset[1], marker=\"x\", color=color, s=150)\n",
    "        \n",
    "for c in centroids:\n",
    "    plt.scatter(centroids[c][0], centroids[c][1], color=\"k\", marker=\"*\", s=150)\n",
    "plt.show()"
   ]
  }
 ],
 "metadata": {
  "kernelspec": {
   "display_name": "Python 3",
   "language": "python",
   "name": "python3"
  },
  "language_info": {
   "codemirror_mode": {
    "name": "ipython",
    "version": 3
   },
   "file_extension": ".py",
   "mimetype": "text/x-python",
   "name": "python",
   "nbconvert_exporter": "python",
   "pygments_lexer": "ipython3",
   "version": "3.6.5"
  }
 },
 "nbformat": 4,
 "nbformat_minor": 2
}
