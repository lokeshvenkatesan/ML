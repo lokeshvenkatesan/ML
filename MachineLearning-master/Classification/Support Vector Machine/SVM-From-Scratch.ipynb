{
 "cells": [
  {
   "cell_type": "markdown",
   "metadata": {},
   "source": [
    "# Support Vector Machine from Scratch"
   ]
  },
  {
   "cell_type": "code",
   "execution_count": 1,
   "metadata": {
    "collapsed": false
   },
   "outputs": [],
   "source": [
    "import matplotlib.pyplot as plt\n",
    "from matplotlib import style\n",
    "import numpy as np\n",
    "style.use(\"ggplot\")"
   ]
  },
  {
   "cell_type": "code",
   "execution_count": 2,
   "metadata": {
    "collapsed": false
   },
   "outputs": [],
   "source": [
    "class SupportVectorMachine:\n",
    "    def __init__(self, visualization=True):\n",
    "        self.visualization = visualization\n",
    "        self.colors = {1: \"r\", -1: \"b\"}\n",
    "        if self.visualization:\n",
    "            self.figure = plt.figure()\n",
    "            self.axis = self.figure.add_subplot(1, 1, 1)\n",
    "            \n",
    "            \n",
    "    # Train\n",
    "    def fit(self, data):\n",
    "        self.data = data\n",
    "        # { ||w||: [w, b]}\n",
    "        opt_dict = {}\n",
    "        transforms = [[1, 1], [-1, 1], [-1, -1], [1, -1]]\n",
    "        all_data = []\n",
    "        for yi in self.data:\n",
    "            for feature_set in self.data[yi]:\n",
    "                for feature in feature_set:\n",
    "                    all_data.append(feature)\n",
    "        self.max_feature_value = max(all_data)\n",
    "        self.min_feature_value = min(all_data)\n",
    "        all_data = None\n",
    "        \n",
    "        # Support vectors yi(xi.w + b) = 1\n",
    "        # You will know that you have found a really great value for w and b, when in both positive and negative classes you have a value close to 1.\n",
    "        \n",
    "        step_size = [self.max_feature_value * 0.1,\n",
    "                    self.max_feature_value * 0.01,\n",
    "                     # Point of expense:\n",
    "                    self.max_feature_value * 0.001]  # Add self.max_feature_value * 0.0001 to be more preciseд\n",
    "        # Extremely expensive\n",
    "        b_range_multiple = 5  # In case it takes for ever to train, lower the value. For example: 1\n",
    "        # No need to take as small of steps with b as w\n",
    "        b_multiple = 5\n",
    "        latest_optimum = self.max_feature_value * 10\n",
    "        \n",
    "        for step in step_size:\n",
    "            w = np.array([latest_optimum, latest_optimum])\n",
    "            # Convex\n",
    "            optimized = False\n",
    "            while not optimized:\n",
    "                # Can be threaded\n",
    "                # ===================================================================\n",
    "                for b in np.arange(-1 * self.max_feature_value * b_range_multiple,\n",
    "                                   self.max_feature_value * b_range_multiple,\n",
    "                                   step * b_multiple):\n",
    "                    for transformation in transforms:\n",
    "                        w_transform = w * transformation\n",
    "                        found_option = True\n",
    "                        # Weakest link in the SVM fundamentally\n",
    "                        # SMO attempts to fix this bit\n",
    "                        # yi(xi.w + b) >= 1\n",
    "                        for i in self.data:  # i = the class\n",
    "                            for xi in self.data[i]:\n",
    "                                yi = i\n",
    "                                # Even if one sample does not fit the definition, the whole thing is thrown out\n",
    "                                if not yi * (np.dot(w_transform, xi) + b) >= 1:\n",
    "                                    found_option = False\n",
    "                                    # break\n",
    "                                # break\n",
    "                        if found_option:\n",
    "                            opt_dict[np.linalg.norm(w_transform)] = [w_transform, b]  # The magnitude of the vector\n",
    "                # =====================================================================\n",
    "                if w[0] < 0:\n",
    "                    optimized =True\n",
    "                    print(\"Optimized a step.\")\n",
    "                else:\n",
    "                    w = w - step\n",
    "            norms = sorted([n for n in opt_dict])\n",
    "            # ||w|| : [w, b]\n",
    "            opt_choice = opt_dict[norms[0]]  # The smallest norm\n",
    "            self.w = opt_choice[0]\n",
    "            self.b = opt_choice[1]\n",
    "            latest_optimum = opt_choice[0][0] + step * 2\n",
    "        for i in self.data:  # i = the class\n",
    "            for xi in self.data[i]:\n",
    "                yi = i\n",
    "                # Even if one sample does not fit the definition, the whole thing is thrown out\n",
    "                print(xi, \":\", yi * (np.dot(self.w, xi) + self.b))\n",
    "        \n",
    "        \n",
    "    def predict(self, features):\n",
    "        # sign(x.w + b)\n",
    "        classification = np.sign(np.dot(np.array(features), self.w) + self.b)\n",
    "        if classification != 0 and self.visualization:\n",
    "            self.axis.scatter(features[0], features[1], s=200, marker=\"*\", c=self.colors[classification])    \n",
    "        return classification\n",
    "    \n",
    "    \n",
    "    def visualize(self, size=20):\n",
    "        [[self.axis.scatter(x[0], x[1], s=100, color=self.colors[i]) for x in data_dict[i]] for i in data_dict]\n",
    "        # hyperplane = x.w + b\n",
    "        # v = x.w + b\n",
    "        # positive support vector = 1\n",
    "        # negative support vector = -1\n",
    "        # decision boundary = 0\n",
    "        def hyperplane(x, w, b, v):\n",
    "            return (-w[0] * x - b + v) / w[1]\n",
    "        data_range = (self.min_feature_value * 0.9, self.max_feature_value * 1.1)\n",
    "        hyperplane_x_min = data_range[0]\n",
    "        hyperplane_x_max = data_range[1]   \n",
    "        # (w.x + b) = 1\n",
    "        # positive support vector hyperplane\n",
    "        psv1 = hyperplane(hyperplane_x_min, self.w, self.b, 1)  # Scalar value\n",
    "        psv2 = hyperplane(hyperplane_x_max, self.w, self.b, 1)  # Scalar value        \n",
    "        self.axis.plot([hyperplane_x_min, hyperplane_x_max], [psv1, psv2], \"k\")\n",
    "        \n",
    "        # (w.x + b) = -1\n",
    "        # negative support vector hyperplane\n",
    "        nsv1 = hyperplane(hyperplane_x_min, self.w, self.b, -1)  # Scalar value\n",
    "        nsv2 = hyperplane(hyperplane_x_max, self.w, self.b, -1)  # Scalar value        \n",
    "        self.axis.plot([hyperplane_x_min, hyperplane_x_max], [nsv1, nsv2], \"k\")\n",
    "        \n",
    "        # (w.x + b) = 0\n",
    "        # decision boundary\n",
    "        db1 = hyperplane(hyperplane_x_min, self.w, self.b, 0)  # Scalar value\n",
    "        db2 = hyperplane(hyperplane_x_max, self.w, self.b, 0)  # Scalar value        \n",
    "        self.axis.plot([hyperplane_x_min, hyperplane_x_max], [db1, db2], \"r--\")\n",
    "        plt.show()"
   ]
  },
  {
   "cell_type": "code",
   "execution_count": 3,
   "metadata": {
    "collapsed": true
   },
   "outputs": [],
   "source": [
    "data_dict = {-1: np.array([[1, 7], [2, 8], [3, 8]]), \n",
    "             1: np.array([[5, 1], [6, -1], [7, 3]])}"
   ]
  },
  {
   "cell_type": "code",
   "execution_count": 4,
   "metadata": {
    "collapsed": false
   },
   "outputs": [
    {
     "name": "stdout",
     "output_type": "stream",
     "text": [
      "Optimized a step.\n",
      "Optimized a step.\n",
      "Optimized a step.\n",
      "[1 7] : 1.224\n",
      "[2 8] : 1.224\n",
      "[3 8] : 1.0\n",
      "[5 1] : 1.016\n",
      "[ 6 -1] : 1.688\n",
      "[7 3] : 1.016\n"
     ]
    },
    {
     "data": {
      "image/png": "[encoded data removed]",
      "text/plain": [
       "<matplotlib.figure.Figure at 0x268e57b8ef0>"
      ]
     },
     "metadata": {},
     "output_type": "display_data"
    }
   ],
   "source": [
    "svm = SupportVectorMachine()\n",
    "svm.fit(data=data_dict)\n",
    "\n",
    "# Points to predict\n",
    "predict_points = [[0, 10],\n",
    "                 [2, 7],\n",
    "                 [4, -6],\n",
    "                 [7, 13],\n",
    "                 [2, 4],\n",
    "                 [6, 10],\n",
    "                 [-1, 5],\n",
    "                 [9, 1],\n",
    "                 [7, 3]]\n",
    "\n",
    "for p in predict_points:\n",
    "    svm.predict(p)\n",
    "    \n",
    "svm.visualize()"
   ]
  }
 ],
 "metadata": {
  "kernelspec": {
   "display_name": "Python 3",
   "language": "python",
   "name": "python3"
  },
  "language_info": {
   "codemirror_mode": {
    "name": "ipython",
    "version": 3
   },
   "file_extension": ".py",
   "mimetype": "text/x-python",
   "name": "python",
   "nbconvert_exporter": "python",
   "pygments_lexer": "ipython3",
   "version": "3.6.0"
  }
 },
 "nbformat": 4,
 "nbformat_minor": 2
}
